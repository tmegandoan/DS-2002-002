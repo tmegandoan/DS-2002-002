{
  "nbformat": 4,
  "nbformat_minor": 0,
  "metadata": {
    "colab": {
      "provenance": [],
      "authorship_tag": "ABX9TyNMGezJZtHViVgzXNN41B82",
      "include_colab_link": true
    },
    "kernelspec": {
      "name": "python3",
      "display_name": "Python 3"
    },
    "language_info": {
      "name": "python"
    }
  },
  "cells": [
    {
      "cell_type": "markdown",
      "metadata": {
        "id": "view-in-github",
        "colab_type": "text"
      },
      "source": [
        "<a href=\"https://colab.research.google.com/github/tmegandoan/DS-2002-002/blob/main/DS3001Project1.ipynb\" target=\"_parent\"><img src=\"https://colab.research.google.com/assets/colab-badge.svg\" alt=\"Open In Colab\"/></a>"
      ]
    },
    {
      "cell_type": "markdown",
      "source": [
        "## Import libraries"
      ],
      "metadata": {
        "id": "_1qFM5JHqVFc"
      }
    },
    {
      "cell_type": "code",
      "execution_count": 1,
      "metadata": {
        "id": "9Jk8UZJdqRk_"
      },
      "outputs": [],
      "source": [
        "# importing basic packages that we think we will need to use including Seaborns for plots and NumPy/Pandas for wrangling and cleaning\n",
        "import pandas as pd\n",
        "import numpy as np\n",
        "import seaborn as sns"
      ]
    },
    {
      "cell_type": "code",
      "source": [
        "from google.colab import drive\n",
        "drive.mount('/content/drive')"
      ],
      "metadata": {
        "id": "PlYaGLtDLGfe",
        "outputId": "e722ea5b-1ad7-4dbc-beca-6c62fb5415c4",
        "colab": {
          "base_uri": "https://localhost:8080/"
        }
      },
      "execution_count": null,
      "outputs": [
        {
          "output_type": "stream",
          "name": "stdout",
          "text": [
            "Mounted at /content/drive\n"
          ]
        }
      ]
    },
    {
      "cell_type": "markdown",
      "source": [
        "## Loading Data\n",
        "\n",
        "The GSS data was not loading properly into Python due to its size. Because of this, we loaded the data into R and picked some columns that we thought would be the most interesting. The data that we are loading in below is our new dataset."
      ],
      "metadata": {
        "id": "yFbW7R59qb7b"
      }
    },
    {
      "cell_type": "code",
      "source": [
        "# the data was uploaded directly into the environment\n",
        "gss = pd.read_csv('/content/new_gss.csv', low_memory=False)"
      ],
      "metadata": {
        "id": "-9Fu5uM7qbrn"
      },
      "execution_count": 2,
      "outputs": []
    },
    {
      "cell_type": "markdown",
      "source": [
        "## Examining the Data\n",
        "\n",
        "The following entails quick looks at the data in order to understand what is going on and if there are any topics of interest"
      ],
      "metadata": {
        "id": "YSYWIgeBrJO6"
      }
    },
    {
      "cell_type": "code",
      "source": [
        "gss.shape"
      ],
      "metadata": {
        "colab": {
          "base_uri": "https://localhost:8080/"
        },
        "id": "w9WMpzxHdaU_",
        "outputId": "40805e94-0d1f-4fc2-8b9a-d73c6f930e34"
      },
      "execution_count": 3,
      "outputs": [
        {
          "output_type": "execute_result",
          "data": {
            "text/plain": [
              "(72390, 27)"
            ]
          },
          "metadata": {},
          "execution_count": 3
        }
      ]
    },
    {
      "cell_type": "code",
      "source": [
        "# examining the data\n",
        "gss.head()"
      ],
      "metadata": {
        "colab": {
          "base_uri": "https://localhost:8080/",
          "height": 499
        },
        "id": "a1TrweSDXibU",
        "outputId": "d1955304-d4f6-4c27-b457-10641fd3b6ae"
      },
      "execution_count": 4,
      "outputs": [
        {
          "output_type": "execute_result",
          "data": {
            "text/plain": [
              "  wrkgovt1  indus10            wrkstat  \\\n",
              "0      NaN   5170.0  working full time   \n",
              "1      NaN   6470.0            retired   \n",
              "2      NaN   7070.0  working part time   \n",
              "3      NaN   5170.0  working full time   \n",
              "4      NaN   6680.0      keeping house   \n",
              "\n",
              "                                               occ10  sibs conclerg coneduc  \\\n",
              "0  wholesale and retail buyers, except farm products   3.0      NaN     NaN   \n",
              "1  first-line supervisors of production and opera...   4.0      NaN     NaN   \n",
              "2               real estate brokers and sales agents   5.0      NaN     NaN   \n",
              "3                           accountants and auditors   5.0      NaN     NaN   \n",
              "4                                telephone operators   2.0      NaN     NaN   \n",
              "\n",
              "  confed conlabor conmedic  ... industry wrkyears                 degree hrs1  \\\n",
              "0    NaN      NaN      NaN  ...    609.0      NaN             bachelor's  NaN   \n",
              "1    NaN      NaN      NaN  ...    338.0      NaN  less than high school  NaN   \n",
              "2    NaN      NaN      NaN  ...    718.0      NaN            high school  NaN   \n",
              "3    NaN      NaN      NaN  ...    319.0      NaN             bachelor's  NaN   \n",
              "4    NaN      NaN      NaN  ...    448.0      NaN            high school  NaN   \n",
              "\n",
              "  agewed     sex  born  granborn  grass xmovie  \n",
              "0    NaN  female   NaN       NaN    NaN    NaN  \n",
              "1   21.0    male   NaN       NaN    NaN    NaN  \n",
              "2   20.0  female   NaN       NaN    NaN    NaN  \n",
              "3   24.0  female   NaN       NaN    NaN    NaN  \n",
              "4   22.0  female   NaN       NaN    NaN    NaN  \n",
              "\n",
              "[5 rows x 27 columns]"
            ],
            "text/html": [
              "\n",
              "  <div id=\"df-e40daa0d-969a-4f60-846b-32868ddf3d4c\" class=\"colab-df-container\">\n",
              "    <div>\n",
              "<style scoped>\n",
              "    .dataframe tbody tr th:only-of-type {\n",
              "        vertical-align: middle;\n",
              "    }\n",
              "\n",
              "    .dataframe tbody tr th {\n",
              "        vertical-align: top;\n",
              "    }\n",
              "\n",
              "    .dataframe thead th {\n",
              "        text-align: right;\n",
              "    }\n",
              "</style>\n",
              "<table border=\"1\" class=\"dataframe\">\n",
              "  <thead>\n",
              "    <tr style=\"text-align: right;\">\n",
              "      <th></th>\n",
              "      <th>wrkgovt1</th>\n",
              "      <th>indus10</th>\n",
              "      <th>wrkstat</th>\n",
              "      <th>occ10</th>\n",
              "      <th>sibs</th>\n",
              "      <th>conclerg</th>\n",
              "      <th>coneduc</th>\n",
              "      <th>confed</th>\n",
              "      <th>conlabor</th>\n",
              "      <th>conmedic</th>\n",
              "      <th>...</th>\n",
              "      <th>industry</th>\n",
              "      <th>wrkyears</th>\n",
              "      <th>degree</th>\n",
              "      <th>hrs1</th>\n",
              "      <th>agewed</th>\n",
              "      <th>sex</th>\n",
              "      <th>born</th>\n",
              "      <th>granborn</th>\n",
              "      <th>grass</th>\n",
              "      <th>xmovie</th>\n",
              "    </tr>\n",
              "  </thead>\n",
              "  <tbody>\n",
              "    <tr>\n",
              "      <th>0</th>\n",
              "      <td>NaN</td>\n",
              "      <td>5170.0</td>\n",
              "      <td>working full time</td>\n",
              "      <td>wholesale and retail buyers, except farm products</td>\n",
              "      <td>3.0</td>\n",
              "      <td>NaN</td>\n",
              "      <td>NaN</td>\n",
              "      <td>NaN</td>\n",
              "      <td>NaN</td>\n",
              "      <td>NaN</td>\n",
              "      <td>...</td>\n",
              "      <td>609.0</td>\n",
              "      <td>NaN</td>\n",
              "      <td>bachelor's</td>\n",
              "      <td>NaN</td>\n",
              "      <td>NaN</td>\n",
              "      <td>female</td>\n",
              "      <td>NaN</td>\n",
              "      <td>NaN</td>\n",
              "      <td>NaN</td>\n",
              "      <td>NaN</td>\n",
              "    </tr>\n",
              "    <tr>\n",
              "      <th>1</th>\n",
              "      <td>NaN</td>\n",
              "      <td>6470.0</td>\n",
              "      <td>retired</td>\n",
              "      <td>first-line supervisors of production and opera...</td>\n",
              "      <td>4.0</td>\n",
              "      <td>NaN</td>\n",
              "      <td>NaN</td>\n",
              "      <td>NaN</td>\n",
              "      <td>NaN</td>\n",
              "      <td>NaN</td>\n",
              "      <td>...</td>\n",
              "      <td>338.0</td>\n",
              "      <td>NaN</td>\n",
              "      <td>less than high school</td>\n",
              "      <td>NaN</td>\n",
              "      <td>21.0</td>\n",
              "      <td>male</td>\n",
              "      <td>NaN</td>\n",
              "      <td>NaN</td>\n",
              "      <td>NaN</td>\n",
              "      <td>NaN</td>\n",
              "    </tr>\n",
              "    <tr>\n",
              "      <th>2</th>\n",
              "      <td>NaN</td>\n",
              "      <td>7070.0</td>\n",
              "      <td>working part time</td>\n",
              "      <td>real estate brokers and sales agents</td>\n",
              "      <td>5.0</td>\n",
              "      <td>NaN</td>\n",
              "      <td>NaN</td>\n",
              "      <td>NaN</td>\n",
              "      <td>NaN</td>\n",
              "      <td>NaN</td>\n",
              "      <td>...</td>\n",
              "      <td>718.0</td>\n",
              "      <td>NaN</td>\n",
              "      <td>high school</td>\n",
              "      <td>NaN</td>\n",
              "      <td>20.0</td>\n",
              "      <td>female</td>\n",
              "      <td>NaN</td>\n",
              "      <td>NaN</td>\n",
              "      <td>NaN</td>\n",
              "      <td>NaN</td>\n",
              "    </tr>\n",
              "    <tr>\n",
              "      <th>3</th>\n",
              "      <td>NaN</td>\n",
              "      <td>5170.0</td>\n",
              "      <td>working full time</td>\n",
              "      <td>accountants and auditors</td>\n",
              "      <td>5.0</td>\n",
              "      <td>NaN</td>\n",
              "      <td>NaN</td>\n",
              "      <td>NaN</td>\n",
              "      <td>NaN</td>\n",
              "      <td>NaN</td>\n",
              "      <td>...</td>\n",
              "      <td>319.0</td>\n",
              "      <td>NaN</td>\n",
              "      <td>bachelor's</td>\n",
              "      <td>NaN</td>\n",
              "      <td>24.0</td>\n",
              "      <td>female</td>\n",
              "      <td>NaN</td>\n",
              "      <td>NaN</td>\n",
              "      <td>NaN</td>\n",
              "      <td>NaN</td>\n",
              "    </tr>\n",
              "    <tr>\n",
              "      <th>4</th>\n",
              "      <td>NaN</td>\n",
              "      <td>6680.0</td>\n",
              "      <td>keeping house</td>\n",
              "      <td>telephone operators</td>\n",
              "      <td>2.0</td>\n",
              "      <td>NaN</td>\n",
              "      <td>NaN</td>\n",
              "      <td>NaN</td>\n",
              "      <td>NaN</td>\n",
              "      <td>NaN</td>\n",
              "      <td>...</td>\n",
              "      <td>448.0</td>\n",
              "      <td>NaN</td>\n",
              "      <td>high school</td>\n",
              "      <td>NaN</td>\n",
              "      <td>22.0</td>\n",
              "      <td>female</td>\n",
              "      <td>NaN</td>\n",
              "      <td>NaN</td>\n",
              "      <td>NaN</td>\n",
              "      <td>NaN</td>\n",
              "    </tr>\n",
              "  </tbody>\n",
              "</table>\n",
              "<p>5 rows × 27 columns</p>\n",
              "</div>\n",
              "    <div class=\"colab-df-buttons\">\n",
              "\n",
              "  <div class=\"colab-df-container\">\n",
              "    <button class=\"colab-df-convert\" onclick=\"convertToInteractive('df-e40daa0d-969a-4f60-846b-32868ddf3d4c')\"\n",
              "            title=\"Convert this dataframe to an interactive table.\"\n",
              "            style=\"display:none;\">\n",
              "\n",
              "  <svg xmlns=\"http://www.w3.org/2000/svg\" height=\"24px\" viewBox=\"0 -960 960 960\">\n",
              "    <path d=\"M120-120v-720h720v720H120Zm60-500h600v-160H180v160Zm220 220h160v-160H400v160Zm0 220h160v-160H400v160ZM180-400h160v-160H180v160Zm440 0h160v-160H620v160ZM180-180h160v-160H180v160Zm440 0h160v-160H620v160Z\"/>\n",
              "  </svg>\n",
              "    </button>\n",
              "\n",
              "  <style>\n",
              "    .colab-df-container {\n",
              "      display:flex;\n",
              "      gap: 12px;\n",
              "    }\n",
              "\n",
              "    .colab-df-convert {\n",
              "      background-color: #E8F0FE;\n",
              "      border: none;\n",
              "      border-radius: 50%;\n",
              "      cursor: pointer;\n",
              "      display: none;\n",
              "      fill: #1967D2;\n",
              "      height: 32px;\n",
              "      padding: 0 0 0 0;\n",
              "      width: 32px;\n",
              "    }\n",
              "\n",
              "    .colab-df-convert:hover {\n",
              "      background-color: #E2EBFA;\n",
              "      box-shadow: 0px 1px 2px rgba(60, 64, 67, 0.3), 0px 1px 3px 1px rgba(60, 64, 67, 0.15);\n",
              "      fill: #174EA6;\n",
              "    }\n",
              "\n",
              "    .colab-df-buttons div {\n",
              "      margin-bottom: 4px;\n",
              "    }\n",
              "\n",
              "    [theme=dark] .colab-df-convert {\n",
              "      background-color: #3B4455;\n",
              "      fill: #D2E3FC;\n",
              "    }\n",
              "\n",
              "    [theme=dark] .colab-df-convert:hover {\n",
              "      background-color: #434B5C;\n",
              "      box-shadow: 0px 1px 3px 1px rgba(0, 0, 0, 0.15);\n",
              "      filter: drop-shadow(0px 1px 2px rgba(0, 0, 0, 0.3));\n",
              "      fill: #FFFFFF;\n",
              "    }\n",
              "  </style>\n",
              "\n",
              "    <script>\n",
              "      const buttonEl =\n",
              "        document.querySelector('#df-e40daa0d-969a-4f60-846b-32868ddf3d4c button.colab-df-convert');\n",
              "      buttonEl.style.display =\n",
              "        google.colab.kernel.accessAllowed ? 'block' : 'none';\n",
              "\n",
              "      async function convertToInteractive(key) {\n",
              "        const element = document.querySelector('#df-e40daa0d-969a-4f60-846b-32868ddf3d4c');\n",
              "        const dataTable =\n",
              "          await google.colab.kernel.invokeFunction('convertToInteractive',\n",
              "                                                    [key], {});\n",
              "        if (!dataTable) return;\n",
              "\n",
              "        const docLinkHtml = 'Like what you see? Visit the ' +\n",
              "          '<a target=\"_blank\" href=https://colab.research.google.com/notebooks/data_table.ipynb>data table notebook</a>'\n",
              "          + ' to learn more about interactive tables.';\n",
              "        element.innerHTML = '';\n",
              "        dataTable['output_type'] = 'display_data';\n",
              "        await google.colab.output.renderOutput(dataTable, element);\n",
              "        const docLink = document.createElement('div');\n",
              "        docLink.innerHTML = docLinkHtml;\n",
              "        element.appendChild(docLink);\n",
              "      }\n",
              "    </script>\n",
              "  </div>\n",
              "\n",
              "\n",
              "<div id=\"df-c4358ad4-7d0b-4e7c-a41d-5f991d8153e1\">\n",
              "  <button class=\"colab-df-quickchart\" onclick=\"quickchart('df-c4358ad4-7d0b-4e7c-a41d-5f991d8153e1')\"\n",
              "            title=\"Suggest charts.\"\n",
              "            style=\"display:none;\">\n",
              "\n",
              "<svg xmlns=\"http://www.w3.org/2000/svg\" height=\"24px\"viewBox=\"0 0 24 24\"\n",
              "     width=\"24px\">\n",
              "    <g>\n",
              "        <path d=\"M19 3H5c-1.1 0-2 .9-2 2v14c0 1.1.9 2 2 2h14c1.1 0 2-.9 2-2V5c0-1.1-.9-2-2-2zM9 17H7v-7h2v7zm4 0h-2V7h2v10zm4 0h-2v-4h2v4z\"/>\n",
              "    </g>\n",
              "</svg>\n",
              "  </button>\n",
              "\n",
              "<style>\n",
              "  .colab-df-quickchart {\n",
              "      --bg-color: #E8F0FE;\n",
              "      --fill-color: #1967D2;\n",
              "      --hover-bg-color: #E2EBFA;\n",
              "      --hover-fill-color: #174EA6;\n",
              "      --disabled-fill-color: #AAA;\n",
              "      --disabled-bg-color: #DDD;\n",
              "  }\n",
              "\n",
              "  [theme=dark] .colab-df-quickchart {\n",
              "      --bg-color: #3B4455;\n",
              "      --fill-color: #D2E3FC;\n",
              "      --hover-bg-color: #434B5C;\n",
              "      --hover-fill-color: #FFFFFF;\n",
              "      --disabled-bg-color: #3B4455;\n",
              "      --disabled-fill-color: #666;\n",
              "  }\n",
              "\n",
              "  .colab-df-quickchart {\n",
              "    background-color: var(--bg-color);\n",
              "    border: none;\n",
              "    border-radius: 50%;\n",
              "    cursor: pointer;\n",
              "    display: none;\n",
              "    fill: var(--fill-color);\n",
              "    height: 32px;\n",
              "    padding: 0;\n",
              "    width: 32px;\n",
              "  }\n",
              "\n",
              "  .colab-df-quickchart:hover {\n",
              "    background-color: var(--hover-bg-color);\n",
              "    box-shadow: 0 1px 2px rgba(60, 64, 67, 0.3), 0 1px 3px 1px rgba(60, 64, 67, 0.15);\n",
              "    fill: var(--button-hover-fill-color);\n",
              "  }\n",
              "\n",
              "  .colab-df-quickchart-complete:disabled,\n",
              "  .colab-df-quickchart-complete:disabled:hover {\n",
              "    background-color: var(--disabled-bg-color);\n",
              "    fill: var(--disabled-fill-color);\n",
              "    box-shadow: none;\n",
              "  }\n",
              "\n",
              "  .colab-df-spinner {\n",
              "    border: 2px solid var(--fill-color);\n",
              "    border-color: transparent;\n",
              "    border-bottom-color: var(--fill-color);\n",
              "    animation:\n",
              "      spin 1s steps(1) infinite;\n",
              "  }\n",
              "\n",
              "  @keyframes spin {\n",
              "    0% {\n",
              "      border-color: transparent;\n",
              "      border-bottom-color: var(--fill-color);\n",
              "      border-left-color: var(--fill-color);\n",
              "    }\n",
              "    20% {\n",
              "      border-color: transparent;\n",
              "      border-left-color: var(--fill-color);\n",
              "      border-top-color: var(--fill-color);\n",
              "    }\n",
              "    30% {\n",
              "      border-color: transparent;\n",
              "      border-left-color: var(--fill-color);\n",
              "      border-top-color: var(--fill-color);\n",
              "      border-right-color: var(--fill-color);\n",
              "    }\n",
              "    40% {\n",
              "      border-color: transparent;\n",
              "      border-right-color: var(--fill-color);\n",
              "      border-top-color: var(--fill-color);\n",
              "    }\n",
              "    60% {\n",
              "      border-color: transparent;\n",
              "      border-right-color: var(--fill-color);\n",
              "    }\n",
              "    80% {\n",
              "      border-color: transparent;\n",
              "      border-right-color: var(--fill-color);\n",
              "      border-bottom-color: var(--fill-color);\n",
              "    }\n",
              "    90% {\n",
              "      border-color: transparent;\n",
              "      border-bottom-color: var(--fill-color);\n",
              "    }\n",
              "  }\n",
              "</style>\n",
              "\n",
              "  <script>\n",
              "    async function quickchart(key) {\n",
              "      const quickchartButtonEl =\n",
              "        document.querySelector('#' + key + ' button');\n",
              "      quickchartButtonEl.disabled = true;  // To prevent multiple clicks.\n",
              "      quickchartButtonEl.classList.add('colab-df-spinner');\n",
              "      try {\n",
              "        const charts = await google.colab.kernel.invokeFunction(\n",
              "            'suggestCharts', [key], {});\n",
              "      } catch (error) {\n",
              "        console.error('Error during call to suggestCharts:', error);\n",
              "      }\n",
              "      quickchartButtonEl.classList.remove('colab-df-spinner');\n",
              "      quickchartButtonEl.classList.add('colab-df-quickchart-complete');\n",
              "    }\n",
              "    (() => {\n",
              "      let quickchartButtonEl =\n",
              "        document.querySelector('#df-c4358ad4-7d0b-4e7c-a41d-5f991d8153e1 button');\n",
              "      quickchartButtonEl.style.display =\n",
              "        google.colab.kernel.accessAllowed ? 'block' : 'none';\n",
              "    })();\n",
              "  </script>\n",
              "</div>\n",
              "    </div>\n",
              "  </div>\n"
            ]
          },
          "metadata": {},
          "execution_count": 4
        }
      ]
    },
    {
      "cell_type": "code",
      "source": [
        "## looking at the data and examining how many missing rows we have:\n",
        "gss.isna().sum()"
      ],
      "metadata": {
        "colab": {
          "base_uri": "https://localhost:8080/"
        },
        "id": "PSFbc-UyaMRU",
        "outputId": "620b1c65-c07f-4fb2-fcaa-c0652a9d2020"
      },
      "execution_count": 5,
      "outputs": [
        {
          "output_type": "execute_result",
          "data": {
            "text/plain": [
              "wrkgovt1    68474\n",
              "indus10      5219\n",
              "wrkstat        36\n",
              "occ10        5138\n",
              "sibs         1785\n",
              "conclerg    25009\n",
              "coneduc     23990\n",
              "confed      24663\n",
              "conlabor    25987\n",
              "conmedic    23889\n",
              "contv       24098\n",
              "conjudge    25224\n",
              "childs        261\n",
              "marital        51\n",
              "major1      65165\n",
              "major2      71709\n",
              "agekdbrn    43523\n",
              "industry    48183\n",
              "wrkyears    70895\n",
              "degree        196\n",
              "hrs1        30830\n",
              "agewed      45847\n",
              "sex           112\n",
              "born         9357\n",
              "granborn    13197\n",
              "grass       33721\n",
              "xmovie      29630\n",
              "dtype: int64"
            ]
          },
          "metadata": {},
          "execution_count": 5
        }
      ]
    },
    {
      "cell_type": "markdown",
      "source": [
        "## Cleaning the Data"
      ],
      "metadata": {
        "id": "OqGH5sNldHPM"
      }
    },
    {
      "cell_type": "markdown",
      "source": [
        "After looking at the number of missing values per row, we see that there are some rows that have more than half of the values missing. If there are more than 75% of values missing, we remove the column.\n",
        "\n",
        "Because of the nature of the general social survey, we know that people are allowed to skip values whenever they would like. We know that there will probably not be many rows with everything filled in.\n",
        "\n",
        "Because we are just interested in how work hours is affected by different variables, we will be focusing on just cleaning the work hours column first. We remove any rows that do not have values for this column. For the other columns that we are interested in such as occupation type, number of children, and marital status, we will also remove rows that are missing information or are empty cells.\n",
        "\n",
        " We will also do other cleaning techniques like renaming columns."
      ],
      "metadata": {
        "id": "8mp9_WZtbjWE"
      }
    },
    {
      "cell_type": "code",
      "source": [
        "# removing columns with more than 75% of the values missing - if missing values > 54,293, we remove the column\n",
        "dropcol = ['wrkgovt1','major1','major2','wrkyears']\n",
        "cl_gss = gss.drop(columns=dropcol, axis=1)"
      ],
      "metadata": {
        "id": "4-TqbgOma9Oa"
      },
      "execution_count": 6,
      "outputs": []
    },
    {
      "cell_type": "code",
      "source": [
        "# renaming columns that we want to use but have ambigious variable names\n",
        "cl_gss = cl_gss.rename(columns = {'hrs1':'hrs_wrked_per_week',\n",
        "                    'occ10':'occupation',\n",
        "                    'conclerg':'conf_religion',\n",
        "                    'coneduc':'conf_education',\n",
        "                    'confed':'conf_fedgov',\n",
        "                    'conmedic':'conf_medical',\n",
        "                    'childs':'numb_children',\n",
        "                    'marital':'marital_status',\n",
        "                    'agekdbrn':'age_at_frstkid',\n",
        "                    'agewed':'age_married',\n",
        "                    'grass':'marijuana_usage'}) # Rename group of variables"
      ],
      "metadata": {
        "id": "CsqlS0v_d0C8"
      },
      "execution_count": 7,
      "outputs": []
    },
    {
      "cell_type": "code",
      "source": [
        "# cleaning the hrs_wrked_per_week variable - removing any row that is missing the hrs worked per week\n",
        "cl_gss['hrs_wrked_per_week'].describe()\n",
        "\n",
        "cl_gss = cl_gss.dropna(subset=['hrs_wrked_per_week'])\n"
      ],
      "metadata": {
        "id": "Zhvck26-d3T5"
      },
      "execution_count": 8,
      "outputs": []
    },
    {
      "cell_type": "code",
      "source": [
        "# we can see that of our original data set, only 41,560 rows had worked hours filled in\n",
        "cl_gss.shape"
      ],
      "metadata": {
        "colab": {
          "base_uri": "https://localhost:8080/"
        },
        "id": "TSBHdWgpgFuk",
        "outputId": "111a0234-8f15-4462-d5ca-8890c8923eb1"
      },
      "execution_count": 9,
      "outputs": [
        {
          "output_type": "execute_result",
          "data": {
            "text/plain": [
              "(41560, 23)"
            ]
          },
          "metadata": {},
          "execution_count": 9
        }
      ]
    },
    {
      "cell_type": "code",
      "source": [
        "# of our subsetted dataset, we then subset the data again in order to choose specific columns that we are interested in. We also remove\n",
        "# any rows that do not have all of the information filled in for our desired columns.\n",
        "\n",
        "fin_cols = ['hrs_wrked_per_week', 'occupation','conf_religion','conf_education','conf_medical', 'numb_children', 'marital_status', 'marijuana_usage', 'degree']\n",
        "\n",
        "cl_gss = cl_gss[fin_cols]\n",
        "\n",
        "cl_gss = cl_gss.dropna()\n",
        "\n",
        "# we can see that there are 21317 rows that have all of the information that we need.\n",
        "cl_gss.shape"
      ],
      "metadata": {
        "id": "BGC9AJ17gXiC",
        "colab": {
          "base_uri": "https://localhost:8080/"
        },
        "outputId": "5ea584a8-e84d-4886-c7fc-fcc4f636c81a"
      },
      "execution_count": 27,
      "outputs": [
        {
          "output_type": "execute_result",
          "data": {
            "text/plain": [
              "(21317, 9)"
            ]
          },
          "metadata": {},
          "execution_count": 27
        }
      ]
    },
    {
      "cell_type": "markdown",
      "source": [
        "## Our Research Question:\n",
        "After cleaning and subsetting our data, we can now delve into our research questions. The research questions we are interested in are as follows.\n",
        "\n",
        "How do certain aspects of life impact the amount of hours worked? For our research questions we will be looking at the relationship between work hours and different socioeconimic factors such as:\n",
        "- Occupation\n",
        "- Marital status\n",
        "- Number of kids\n",
        "- Confidence in major institutions\n",
        "- Degree\n",
        "- Marijuana Usage"
      ],
      "metadata": {
        "id": "qbN4pFmIgO3C"
      }
    },
    {
      "cell_type": "markdown",
      "source": [],
      "metadata": {
        "id": "V__yuGqKkuwo"
      }
    }
  ]
}